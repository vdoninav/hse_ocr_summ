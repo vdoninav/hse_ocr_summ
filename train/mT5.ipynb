{
 "cells": [
  {
   "cell_type": "code",
   "execution_count": null,
   "id": "b44958ac-c541-492a-85cc-00ba1ac939fa",
   "metadata": {},
   "outputs": [
    {
     "name": "stdout",
     "output_type": "stream",
     "text": [
      "--2025-03-25 22:32:04--  https://www.dropbox.com/scl/fi/m9bmjd8soszx92qrtxxh1/train.jsonl?rlkey=lq4gayi85gdw3u2197z27rjd0&st=xqteb89h&dl=1\n"
     ]
    }
   ],
   "source": [
    "!wget -O train.jsonl 'https://www.dropbox.com/scl/fi/m9bmjd8soszx92qrtxxh1/train.jsonl?rlkey=lq4gayi85gdw3u2197z27rjd0&st=xqteb89h&dl=1'"
   ]
  },
  {
   "cell_type": "code",
   "execution_count": 2,
   "id": "56b0cc03-4cc8-486b-9698-b4e08a1a66a8",
   "metadata": {},
   "outputs": [
    {
     "name": "stdout",
     "output_type": "stream",
     "text": [
      "tuned/mt5-2_4/checkpoint-3675/\n",
      "tuned/mt5-2_4/checkpoint-3675/config.json\n",
      "tuned/mt5-2_4/checkpoint-3675/training_args.bin\n",
      "tuned/mt5-2_4/checkpoint-3675/rng_state.pth\n",
      "tuned/mt5-2_4/checkpoint-3675/generation_config.json\n",
      "tuned/mt5-2_4/checkpoint-3675/optimizer.pt\n",
      "tuned/mt5-2_4/checkpoint-3675/scheduler.pt\n",
      "tuned/mt5-2_4/checkpoint-3675/model.safetensors\n",
      "tuned/mt5-2_4/checkpoint-3675/tokenizer_config.json\n",
      "tuned/mt5-2_4/checkpoint-3675/special_tokens_map.json\n",
      "tuned/mt5-2_4/checkpoint-3675/trainer_state.json\n",
      "tuned/mt5-2_4/checkpoint-3675/spiece.model\n"
     ]
    }
   ],
   "source": [
    "!tar -cvf mt5-e15.tar tuned/mt5-2_4/checkpoint-3675"
   ]
  },
  {
   "cell_type": "code",
   "execution_count": 1,
   "id": "7eb1ee85-fbad-470d-833a-5e6e96928643",
   "metadata": {},
   "outputs": [
    {
     "name": "stdout",
     "output_type": "stream",
     "text": [
      "tuned/mbart2_3/checkpoint-1880/\n",
      "tuned/mbart2_3/checkpoint-1880/config.json\n",
      "tuned/mbart2_3/checkpoint-1880/training_args.bin\n",
      "tuned/mbart2_3/checkpoint-1880/rng_state.pth\n",
      "tuned/mbart2_3/checkpoint-1880/generation_config.json\n",
      "tuned/mbart2_3/checkpoint-1880/sentencepiece.bpe.model\n",
      "tuned/mbart2_3/checkpoint-1880/optimizer.pt\n",
      "tuned/mbart2_3/checkpoint-1880/scheduler.pt\n",
      "tuned/mbart2_3/checkpoint-1880/model.safetensors\n",
      "tuned/mbart2_3/checkpoint-1880/tokenizer_config.json\n",
      "tuned/mbart2_3/checkpoint-1880/special_tokens_map.json\n",
      "tuned/mbart2_3/checkpoint-1880/trainer_state.json\n",
      "tuned/mbart2_3/checkpoint-1880/tokenizer.json\n"
     ]
    }
   ],
   "source": [
    "!tar -cvf mbart2_3.tar tuned/mbart2_3/checkpoint-1880"
   ]
  },
  {
   "cell_type": "code",
   "execution_count": null,
   "id": "667d38bd-2d5e-4eae-90c4-2de9e3382281",
   "metadata": {},
   "outputs": [
    {
     "name": "stdout",
     "output_type": "stream",
     "text": [
      "Running on: cuda\n",
      "GPU Device Name: NVIDIA A100 80GB PCIe\n"
     ]
    },
    {
     "name": "stderr",
     "output_type": "stream",
     "text": [
      "\u001b[34m\u001b[1mwandb\u001b[0m: Using wandb-core as the SDK backend.  Please refer to https://wandb.me/wandb-core for more information.\n",
      "\u001b[34m\u001b[1mwandb\u001b[0m: Currently logged in as: \u001b[33mvdoninav\u001b[0m (\u001b[33mvdoninav-hse\u001b[0m) to \u001b[32mhttps://api.wandb.ai\u001b[0m. Use \u001b[1m`wandb login --relogin`\u001b[0m to force relogin\n"
     ]
    },
    {
     "data": {
      "text/html": [
       "Tracking run with wandb version 0.19.8"
      ],
      "text/plain": [
       "<IPython.core.display.HTML object>"
      ]
     },
     "metadata": {},
     "output_type": "display_data"
    },
    {
     "data": {
      "text/html": [
       "Run data is saved locally in <code>/home/ubuntu/cw25/wandb/run-20250328_024615-ep3ssgqn</code>"
      ],
      "text/plain": [
       "<IPython.core.display.HTML object>"
      ]
     },
     "metadata": {},
     "output_type": "display_data"
    },
    {
     "data": {
      "text/html": [
       "Syncing run <strong><a href='https://wandb.ai/vdoninav-hse/coursework_2025/runs/ep3ssgqn' target=\"_blank\">mt5-2_4</a></strong> to <a href='https://wandb.ai/vdoninav-hse/coursework_2025' target=\"_blank\">Weights & Biases</a> (<a href='https://wandb.me/developer-guide' target=\"_blank\">docs</a>)<br>"
      ],
      "text/plain": [
       "<IPython.core.display.HTML object>"
      ]
     },
     "metadata": {},
     "output_type": "display_data"
    },
    {
     "data": {
      "text/html": [
       " View project at <a href='https://wandb.ai/vdoninav-hse/coursework_2025' target=\"_blank\">https://wandb.ai/vdoninav-hse/coursework_2025</a>"
      ],
      "text/plain": [
       "<IPython.core.display.HTML object>"
      ]
     },
     "metadata": {},
     "output_type": "display_data"
    },
    {
     "data": {
      "text/html": [
       " View run at <a href='https://wandb.ai/vdoninav-hse/coursework_2025/runs/ep3ssgqn' target=\"_blank\">https://wandb.ai/vdoninav-hse/coursework_2025/runs/ep3ssgqn</a>"
      ],
      "text/plain": [
       "<IPython.core.display.HTML object>"
      ]
     },
     "metadata": {},
     "output_type": "display_data"
    },
    {
     "name": "stderr",
     "output_type": "stream",
     "text": [
      "The tokenizer class you load from this checkpoint is not the same type as the class this function is called from. It may result in unexpected tokenization. \n",
      "The tokenizer class you load from this checkpoint is 'T5Tokenizer'. \n",
      "The class this function is called from is 'MT5Tokenizer'.\n",
      "You are using the default legacy behaviour of the <class 'transformers.models.mt5.tokenization_mt5.MT5Tokenizer'>. This is expected, and simply means that the `legacy` (previous) behavior will be used so nothing changes for you. If you want to use the new behaviour, set `legacy=False`. This should only be set if you understand what it means, and thoroughly read the reason why this was added as explained in https://github.com/huggingface/transformers/pull/24565\n",
      "/home/ubuntu/env/lib/python3.12/site-packages/transformers/tokenization_utils_base.py:3980: UserWarning: `as_target_tokenizer` is deprecated and will be removed in v5 of Transformers. You can tokenize your labels by using the argument `text_target` of the regular `__call__` method (either in the same call as your input texts if you use the same keyword arguments, or in a separate call.\n",
      "  warnings.warn(\n",
      "/tmp/ipykernel_23427/2448502615.py:221: FutureWarning: `tokenizer` is deprecated and will be removed in version 5.0.0 for `Trainer.__init__`. Use `processing_class` instead.\n",
      "  trainer = Trainer(\n",
      "\u001b[34m\u001b[1mwandb\u001b[0m: \u001b[33mWARNING\u001b[0m The `run_name` is currently set to the same value as `TrainingArguments.output_dir`. If this was not intended, please specify a different run name by setting the `TrainingArguments.run_name` parameter.\n",
      "Passing a tuple of `past_key_values` is deprecated and will be removed in Transformers v4.48.0. You should pass an instance of `EncoderDecoderCache` instead, e.g. `past_key_values=EncoderDecoderCache.from_legacy_cache(past_key_values)`.\n"
     ]
    },
    {
     "data": {
      "text/html": [
       "\n",
       "    <div>\n",
       "      \n",
       "      <progress value='125' max='7350' style='width:300px; height:20px; vertical-align: middle;'></progress>\n",
       "      [ 125/7350 01:48 < 1:46:12, 1.13 it/s, Epoch 0.51/30]\n",
       "    </div>\n",
       "    <table border=\"1\" class=\"dataframe\">\n",
       "  <thead>\n",
       " <tr style=\"text-align: left;\">\n",
       "      <th>Epoch</th>\n",
       "      <th>Training Loss</th>\n",
       "      <th>Validation Loss</th>\n",
       "    </tr>\n",
       "  </thead>\n",
       "  <tbody>\n",
       "  </tbody>\n",
       "</table><p>"
      ],
      "text/plain": [
       "<IPython.core.display.HTML object>"
      ]
     },
     "metadata": {},
     "output_type": "display_data"
    }
   ],
   "source": [
    "import os\n",
    "import torch\n",
    "import wandb\n",
    "from usecrets import WANDB_API_KEY\n",
    "\n",
    "\n",
    "os.environ['WANDB_API_KEY'] = WANDB_API_KEY\n",
    "\n",
    "from transformers import (\n",
    "    AutoTokenizer,\n",
    "    MBartForConditionalGeneration,\n",
    "    MT5ForConditionalGeneration,\n",
    "    MT5Tokenizer,\n",
    "    Trainer,\n",
    "    TrainingArguments,\n",
    "    TrainerCallback\n",
    ")\n",
    "from datasets import load_dataset, Dataset\n",
    "from bert_score import score as bert_score_metric\n",
    "\n",
    "import config\n",
    "\n",
    "\n",
    "device = torch.device(\"cuda\" if torch.cuda.is_available() else \"cpu\")\n",
    "print(f\"Running on: {device}\")\n",
    "if device.type == \"cuda\":\n",
    "    print(\"GPU Device Name:\", torch.cuda.get_device_name(0))\n",
    "\n",
    "\n",
    "wandb.init(\n",
    "    project=config.WANDB_PROJECT,\n",
    "    name=config.WANDB_RUN_NAME,\n",
    "    config={\n",
    "        \"num_train_epochs\": config.NUM_EPOCHS,\n",
    "        \"batch_size\": config.BATCH_SIZE,\n",
    "        \"warmup_steps\": config.WARMUP_STEPS,\n",
    "        \"weight_decay\": config.WEIGHT_DECAY,\n",
    "    }\n",
    ")\n",
    "\n",
    "raw_dataset = load_dataset(\"json\", data_files=\"train.jsonl\", field=None)[\"train\"]\n",
    "split_dataset = raw_dataset.train_test_split(test_size=0.1, seed=52)\n",
    "train_raw = split_dataset[\"train\"]\n",
    "val_raw = split_dataset[\"test\"]\n",
    "\n",
    "model_name = \"google/mt5-small\"\n",
    "tokenizer = MT5Tokenizer.from_pretrained(model_name)\n",
    "model = MT5ForConditionalGeneration.from_pretrained(model_name).to(device)\n",
    "# model.config.dropout = 0.15\n",
    "# model.config.attention_dropout = 0.10\n",
    "# model.config.classifier_dropout = 0.15\n",
    "\n",
    "tokenizer.src_lang = \"ru_RU\"\n",
    "tokenizer.tgt_lang = \"ru_RU\"\n",
    "\n",
    "max_input_length = 1024\n",
    "max_target_length = 128\n",
    "\n",
    "\n",
    "def chunk_preprocess(example):\n",
    "    text = example[\"text\"]\n",
    "    summary = example[\"summary\"]\n",
    "    input_ids = tokenizer.encode(text, add_special_tokens=True)\n",
    "    target_ids = tokenizer.encode(summary, add_special_tokens=True)\n",
    "    \n",
    "    if len(input_ids) > max_input_length:\n",
    "        chunk_examples = []\n",
    "        for i in range(0, len(input_ids), max_input_length):\n",
    "            chunk_ids = input_ids[i:i+max_input_length]\n",
    "            padded_chunk = chunk_ids + [tokenizer.pad_token_id] * (max_input_length - len(chunk_ids))\n",
    "            attention_mask = [1] * len(chunk_ids) + [0] * (max_input_length - len(chunk_ids))\n",
    "\n",
    "            padded_target_ids = target_ids[:max_target_length]\n",
    "            if len(padded_target_ids) < max_target_length:\n",
    "                padded_target_ids += [tokenizer.pad_token_id] * (max_target_length - len(padded_target_ids))\n",
    "            \n",
    "            chunk_examples.append({\n",
    "                \"input_ids\": padded_chunk,\n",
    "                \"attention_mask\": attention_mask,\n",
    "                \"labels\": padded_target_ids,\n",
    "            })\n",
    "        return chunk_examples\n",
    "    else:\n",
    "        encoded_inputs = tokenizer(\n",
    "            text, max_length=max_input_length, truncation=True, padding=\"max_length\"\n",
    "        )\n",
    "        with tokenizer.as_target_tokenizer():\n",
    "            encoded_targets = tokenizer(\n",
    "                summary, max_length=max_target_length, truncation=True, padding=\"max_length\"\n",
    "            )\n",
    "        encoded_inputs[\"labels\"] = encoded_targets[\"input_ids\"]\n",
    "        return encoded_inputs\n",
    "\n",
    "def process_dataset(dataset):\n",
    "    examples = []\n",
    "    for example in dataset:\n",
    "        processed = chunk_preprocess(example)\n",
    "        if isinstance(processed, list):\n",
    "            examples.extend(processed)\n",
    "        else:\n",
    "            examples.append(processed)\n",
    "    return examples\n",
    "\n",
    "train_examples = process_dataset(train_raw)\n",
    "val_examples = process_dataset(val_raw)\n",
    "\n",
    "train_dataset = Dataset.from_list(train_examples)\n",
    "val_dataset = Dataset.from_list(val_examples)\n",
    "\n",
    "class MetricsLoggerCallback(TrainerCallback):\n",
    "    def __init__(self, model, tokenizer, eval_dataset, log_file=\"training_log.txt\", max_eval_samples=200):\n",
    "        super().__init__()\n",
    "        self.model = model\n",
    "        self.tokenizer = tokenizer\n",
    "        self.eval_dataset = eval_dataset\n",
    "        self.log_file = log_file\n",
    "        self.max_eval_samples = max_eval_samples\n",
    "\n",
    "    def on_evaluate(self, args, state, control, metrics=None, **kwargs):\n",
    "        if metrics is None:\n",
    "            metrics = {}\n",
    "        \n",
    "        # Используем переданный eval_dataset, модель и токенайзер\n",
    "        subset_size = min(len(self.eval_dataset), self.max_eval_samples)\n",
    "        small_eval = self.eval_dataset.select(range(subset_size))\n",
    "        \n",
    "        all_preds = []\n",
    "        all_labels = []\n",
    "        \n",
    "        for start_idx in range(0, subset_size, args.per_device_eval_batch_size):\n",
    "            sub_eval = small_eval[start_idx : start_idx + args.per_device_eval_batch_size]\n",
    "        \n",
    "            batch_input_ids = sub_eval[\"input_ids\"]\n",
    "            batch_attn_mask = sub_eval[\"attention_mask\"]\n",
    "            batch_labels = sub_eval[\"labels\"]\n",
    "        \n",
    "            input_ids = torch.tensor(batch_input_ids, dtype=torch.long).to(self.model.device)\n",
    "            attention_mask = torch.tensor(batch_attn_mask, dtype=torch.long).to(self.model.device)\n",
    "            labels = torch.tensor(batch_labels, dtype=torch.long).to(self.model.device)\n",
    "        \n",
    "            with torch.no_grad():\n",
    "                generated_tokens = self.model.generate(\n",
    "                    input_ids=input_ids,\n",
    "                    attention_mask=attention_mask,\n",
    "                    max_length=128,\n",
    "                    num_beams=4,\n",
    "                    early_stopping=True\n",
    "                )\n",
    "        \n",
    "            preds = self.tokenizer.batch_decode(generated_tokens, skip_special_tokens=True)\n",
    "            tgts = self.tokenizer.batch_decode(labels, skip_special_tokens=True)\n",
    "            all_preds.extend(preds)\n",
    "            all_labels.extend(tgts)\n",
    "\n",
    "\n",
    "        P, R, F1 = bert_score_metric(\n",
    "            all_preds, \n",
    "            all_labels, \n",
    "            lang=\"ru\",\n",
    "            model_type=\"google-bert/bert-base-multilingual-cased\",\n",
    "            num_layers=9,\n",
    "            verbose=False\n",
    "        )\n",
    "\n",
    "        p_mean = float(torch.mean(P))\n",
    "        r_mean = float(torch.mean(R))\n",
    "        f1_mean = float(torch.mean(F1))\n",
    "\n",
    "        metrics[\"eval_bert_score_precision\"] = p_mean\n",
    "        metrics[\"eval_bert_score_recall\"] = r_mean\n",
    "        metrics[\"eval_bert_score_f1\"] = f1_mean\n",
    "\n",
    "        wandb.log(metrics)\n",
    "\n",
    "        os.makedirs(os.path.dirname(self.log_file), exist_ok=True)\n",
    "        with open(self.log_file, \"a\", encoding=\"utf-8\") as f:\n",
    "            f.write(f\"Epoch {state.epoch} evaluation metrics:\\n\")\n",
    "            for k, v in metrics.items():\n",
    "                f.write(f\"{k}: {v}\\n\")\n",
    "            f.write(\"\\n\")\n",
    "\n",
    "\n",
    "optimizer = torch.optim.AdamW(\n",
    "    model.parameters(),\n",
    "    lr=config.LEARNING_RATE,\n",
    "    weight_decay=config.WEIGHT_DECAY\n",
    ")\n",
    "\n",
    "scheduler = torch.optim.lr_scheduler.ReduceLROnPlateau(\n",
    "    optimizer,\n",
    "    mode=config.RLR_MODE,    # \"min\"\n",
    "    patience=config.RLR_PATIENCE,  # 1\n",
    "    factor=config.RLR_FACTOR       # 0.8\n",
    ")\n",
    "\n",
    "optims = (optimizer, scheduler)\n",
    "\n",
    "training_args = TrainingArguments(\n",
    "    output_dir=f\"./tuned/{config.WANDB_RUN_NAME}\",\n",
    "    num_train_epochs=config.NUM_EPOCHS,\n",
    "    per_device_train_batch_size=config.BATCH_SIZE,\n",
    "    per_device_eval_batch_size=config.BATCH_SIZE,\n",
    "    learning_rate=config.LEARNING_RATE,\n",
    "    weight_decay=config.WEIGHT_DECAY,\n",
    "    lr_scheduler_type='reduce_lr_on_plateau',\n",
    "    lr_scheduler_kwargs={'mode': config.RLR_MODE, 'patience': config.RLR_PATIENCE, 'factor': config.RLR_FACTOR},\n",
    "    logging_steps=50,\n",
    "    eval_strategy=\"epoch\",\n",
    "    save_total_limit=config.NUM_EPOCHS,\n",
    "    save_strategy=\"epoch\",\n",
    "    report_to=[\"wandb\"],\n",
    "    overwrite_output_dir=True,\n",
    "    load_best_model_at_end=True,\n",
    "    metric_for_best_model=\"eval_bert_score_f1\",\n",
    "    greater_is_better=True\n",
    ")\n",
    "\n",
    "# TODO: ReduceLROnPlateau params: patience = 1,  mode=\"min\", patience=1, factor=0.8\n",
    "# TODO: AdamW params: lr = 1e-3, weight_decay=0.2\n",
    "\n",
    "trainer = Trainer(\n",
    "    model=model,\n",
    "    args=training_args,\n",
    "    train_dataset=train_dataset,\n",
    "    eval_dataset=val_dataset,\n",
    "    tokenizer=tokenizer,\n",
    "    optimizers=optims,\n",
    ")\n",
    "\n",
    "trainer.add_callback(MetricsLoggerCallback(model, tokenizer, val_dataset, log_file=f\"logs/{config.WANDB_RUN_NAME}/training_log.txt\"))\n",
    "\n",
    "wandb.watch(model, log=\"all\")\n",
    "\n",
    "trainer.train()\n",
    "\n",
    "model.save_pretrained(os.path.join(training_args.output_dir, \"final_model\"))\n",
    "tokenizer.save_pretrained(os.path.join(training_args.output_dir, \"final_model\"))\n",
    "\n",
    "wandb.finish()\n"
   ]
  }
 ],
 "metadata": {
  "kernelspec": {
   "display_name": "Python 3 (ipykernel)",
   "language": "python",
   "name": "python3"
  },
  "language_info": {
   "codemirror_mode": {
    "name": "ipython",
    "version": 3
   },
   "file_extension": ".py",
   "mimetype": "text/x-python",
   "name": "python",
   "nbconvert_exporter": "python",
   "pygments_lexer": "ipython3",
   "version": "3.12.9"
  }
 },
 "nbformat": 4,
 "nbformat_minor": 5
}
