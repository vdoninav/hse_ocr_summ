{
 "cells": [
  {
   "cell_type": "code",
   "execution_count": 1,
   "metadata": {},
   "outputs": [
    {
     "name": "stdout",
     "output_type": "stream",
     "text": [
      "Collecting pytesseract\n",
      "  Downloading pytesseract-0.3.13-py3-none-any.whl.metadata (11 kB)\n",
      "Collecting pdf2image\n",
      "  Downloading pdf2image-1.17.0-py3-none-any.whl.metadata (6.2 kB)\n",
      "Requirement already satisfied: pillow in /Users/vdav/opt/anaconda3/envs/python3_12/lib/python3.12/site-packages (11.0.0)\n",
      "Requirement already satisfied: packaging>=21.3 in /Users/vdav/opt/anaconda3/envs/python3_12/lib/python3.12/site-packages (from pytesseract) (24.1)\n",
      "Downloading pytesseract-0.3.13-py3-none-any.whl (14 kB)\n",
      "Downloading pdf2image-1.17.0-py3-none-any.whl (11 kB)\n",
      "Installing collected packages: pytesseract, pdf2image\n",
      "Successfully installed pdf2image-1.17.0 pytesseract-0.3.13\n",
      "Note: you may need to restart the kernel to use updated packages.\n"
     ]
    }
   ],
   "source": [
    "%pip install pytesseract pdf2image pillow"
   ]
  },
  {
   "cell_type": "code",
   "execution_count": 7,
   "metadata": {},
   "outputs": [
    {
     "data": {
      "text/plain": [
       "'--- Страница 1 ---\\nПРАВИТЕЛЬСТВО РОССИЙСКОЙ ФЕДЕРАЦИИ\\nРАСПОРЯЖЕНИЕ\\n\\nот 30 декабря 2011 г. № 2458-р\\n\\nМОСКВА\\n\\n1. Реорганизовать — федеральное — государственное — автономное\\nобразовательное учреждение высшего профессионального образования\\n\"Национальный — исследовательский — университет — \"Высшая — школа\\n\\nэкономики\" — (г. Москва) (далее - — университет), — федеральное\\nгосударственное бюджетное образовательное учреждение\\nдополнительного профессионального образования \"Академия\\n\\nдополнительного  профессионального образования  \"Учебный  центр\\nподготовки руководителей\" (г. Санкт-Петербург), федеральное автономное\\nобразовательное — учреждение — дополнительного — профессионального\\nобразования \"Государственная академия профессиональной\\nпереподготовки и повышения квалификации руководящих работников и\\nспециалистов — инвестиционной сферы\" (г. Москва) и  федеральное\\nгосударственное бюджетное — образовательное  учреждение — высшего\\nпрофессионального образования \"Московский государственный институт\\nэлектроники и математики (технический университет)\" (г. Москва) (далее -\\nобразовательные учреждения) в форме присоединения образовательных\\nучреждений к университету, сохранив основные цели ero деятельности.\\n\\nУказанную реорганизацию осуществить в пределах бюджетных\\nассигнований, предусмотренных в федеральном бюджете на 2012 год и\\nплановый период 2013 и 2014 годов Управлению делами Президента\\nРоссийской Федерации и Минобрнауки России на  обеспечение\\nдеятельности — университета и — образовательных — учреждений, 6e3\\nувеличения общей численности и фонда оплаты труда.\\n\\n2. Функции и полномочия учредителя университета осуществляются\\nПравительством Российской Федерации.\\n\\n1699164.д0с\\n\\n\\n--- Страница 2 ---\\n3. Минобрнауки России:\\n\\nосуществить передачу в установленном порядке Управлению делами\\nПрезидента — Российской — Федерации — бюджетных — ассигнований,\\nпредусмотренных в федеральном бюджете на 2012 год и плановый период\\n2013 и 2014 годов на обеспечение деятельности — образовательных\\nучреждений;\\n\\nсовместно с Росимуществом в 6-месячный срок осуществить\\nмероприятия, связанные с предусмотренной пунктом 1 настоящего\\nраспоряжения реорганизацией.\\n\\nВ.Путин\\n\\n1699164.doc\\n\\n'"
      ]
     },
     "execution_count": 7,
     "metadata": {},
     "output_type": "execute_result"
    }
   ],
   "source": [
    "import pytesseract\n",
    "from pdf2image import convert_from_path\n",
    "import os\n",
    "\n",
    "def ocr(document):\n",
    "    \"\"\"Takes a .pdf document and returns extracted text\"\"\"\n",
    "    os.environ['TESSDATA_PREFIX'] = '/opt/homebrew/share/tessdata'\n",
    "\n",
    "    pages = convert_from_path(document, dpi=300)\n",
    "\n",
    "    extracted_text = ''\n",
    "\n",
    "    for i, page in enumerate(pages):\n",
    "        text = pytesseract.image_to_string(page, lang='rus+eng')\n",
    "        extracted_text += f'--- Страница {i+1} ---\\n' + text + '\\n'\n",
    "\n",
    "    # with open('result.txt', 'w', encoding='utf-8') as f:\n",
    "    #     f.write(extracted_text)\n",
    "\n",
    "    return extracted_text"
   ]
  }
 ],
 "metadata": {
  "kernelspec": {
   "display_name": "python3_12",
   "language": "python",
   "name": "python3"
  },
  "language_info": {
   "codemirror_mode": {
    "name": "ipython",
    "version": 3
   },
   "file_extension": ".py",
   "mimetype": "text/x-python",
   "name": "python",
   "nbconvert_exporter": "python",
   "pygments_lexer": "ipython3",
   "version": "3.12.7"
  }
 },
 "nbformat": 4,
 "nbformat_minor": 2
}
