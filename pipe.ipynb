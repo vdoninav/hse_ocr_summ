{
 "cells": [
  {
   "cell_type": "code",
   "execution_count": 20,
   "metadata": {},
   "outputs": [
    {
     "name": "stderr",
     "output_type": "stream",
     "text": [
      "huggingface/tokenizers: The current process just got forked, after parallelism has already been used. Disabling parallelism to avoid deadlocks...\n",
      "To disable this warning, you can either:\n",
      "\t- Avoid using `tokenizers` before the fork if possible\n",
      "\t- Explicitly set the environment variable TOKENIZERS_PARALLELISM=(true | false)\n",
      "huggingface/tokenizers: The current process just got forked, after parallelism has already been used. Disabling parallelism to avoid deadlocks...\n",
      "To disable this warning, you can either:\n",
      "\t- Avoid using `tokenizers` before the fork if possible\n",
      "\t- Explicitly set the environment variable TOKENIZERS_PARALLELISM=(true | false)\n",
      "huggingface/tokenizers: The current process just got forked, after parallelism has already been used. Disabling parallelism to avoid deadlocks...\n",
      "To disable this warning, you can either:\n",
      "\t- Avoid using `tokenizers` before the fork if possible\n",
      "\t- Explicitly set the environment variable TOKENIZERS_PARALLELISM=(true | false)\n",
      "huggingface/tokenizers: The current process just got forked, after parallelism has already been used. Disabling parallelism to avoid deadlocks...\n",
      "To disable this warning, you can either:\n",
      "\t- Avoid using `tokenizers` before the fork if possible\n",
      "\t- Explicitly set the environment variable TOKENIZERS_PARALLELISM=(true | false)\n",
      "huggingface/tokenizers: The current process just got forked, after parallelism has already been used. Disabling parallelism to avoid deadlocks...\n",
      "To disable this warning, you can either:\n",
      "\t- Avoid using `tokenizers` before the fork if possible\n",
      "\t- Explicitly set the environment variable TOKENIZERS_PARALLELISM=(true | false)\n",
      "Hardware accelerator e.g. GPU is available in the environment, but no `device` argument is passed to the `Pipeline` object. Model will be on CPU.\n"
     ]
    },
    {
     "data": {
      "text/plain": [
       "'Министр образования и науки РФ Владимир ПРЕОБРАЖЕНСКИЙ: «Высшее профессиональное образование Москвы — это школа дополнительного образования»'"
      ]
     },
     "execution_count": 20,
     "metadata": {},
     "output_type": "execute_result"
    }
   ],
   "source": [
    "import pytesseract\n",
    "from pdf2image import convert_from_path\n",
    "from transformers import AutoTokenizer, MBartForConditionalGeneration, pipeline\n",
    "import os\n",
    "\n",
    "\n",
    "tokenizer = AutoTokenizer.from_pretrained('./ru-mbart-large-summ')\n",
    "model = MBartForConditionalGeneration.from_pretrained('./ru-mbart-large-summ')\n",
    "\n",
    "os.environ['TESSDATA_PREFIX'] = '/opt/homebrew/share/tessdata'\n",
    "\n",
    "pages = convert_from_path('test3.pdf', dpi=300)\n",
    "\n",
    "extracted_text = ''\n",
    "\n",
    "for i, page in enumerate(pages):\n",
    "    text = pytesseract.image_to_string(page, lang='rus+eng')\n",
    "    extracted_text += f'--- Страница {i+1} ---\\n' + text + '\\n'\n",
    "\n",
    "summ = pipeline(\"summarization\", model=model, tokenizer=tokenizer)\n",
    "\n",
    "res = summ(extracted_text)[0]['summary_text']\n",
    "res"
   ]
  },
  {
   "cell_type": "code",
   "execution_count": null,
   "metadata": {},
   "outputs": [
    {
     "data": {
      "text/plain": [
       "'Настоящее положение дел в Российском государственном научно-техническом университете создано в соответствии с законом «О государственной политике Российской Федерации» и уставом Национального исследовательского университета «Высшая школа экономики» (НОУ) «Управление правовой политики НИУ ВШЭ».'"
      ]
     },
     "execution_count": 29,
     "metadata": {},
     "output_type": "execute_result"
    }
   ],
   "source": [
    "import os\n",
    "import torch\n",
    "import pytesseract\n",
    "from pdf2image import convert_from_path\n",
    "from transformers import AutoTokenizer, MBartForConditionalGeneration, pipeline\n",
    "import subprocess\n",
    "\n",
    "# Если используется Tesseract, указываем путь к tessdata\n",
    "os.environ['TESSDATA_PREFIX'] = '/opt/homebrew/share/tessdata'\n",
    "\n",
    "# Определяем устройство\n",
    "device = torch.device(\"cuda\" if torch.cuda.is_available() else \"cpu\")\n",
    "\n",
    "# Загружаем модель и токенизатор (модель дообучена и сохранена в 'tuned/final_model')\n",
    "tokenizer = AutoTokenizer.from_pretrained('tuned/final_model')\n",
    "model = MBartForConditionalGeneration.from_pretrained('tuned/final_model').to(device)\n",
    "\n",
    "# Функция для обработки .docx (не забудьте установить python-docx: pip install python-docx)\n",
    "def convert_docx_to_txt(docx_path):\n",
    "    from docx import Document\n",
    "    doc = Document(docx_path)\n",
    "    full_text = [para.text for para in doc.paragraphs]\n",
    "    text = \"\\n\".join(full_text)\n",
    "    return text\n",
    "\n",
    "def convert_doc_to_txt(doc_path):\n",
    "    try:\n",
    "        result = subprocess.run(\n",
    "            [\"textutil\", \"-convert\", \"txt\", \"-stdout\", doc_path],\n",
    "            stdout=subprocess.PIPE,\n",
    "            stderr=subprocess.PIPE,\n",
    "            text=True\n",
    "        )\n",
    "        if result.returncode == 0:\n",
    "            return result.stdout\n",
    "        else:\n",
    "            print(\"Ошибка:\", result.stderr)\n",
    "            return \"\"\n",
    "    except Exception as e:\n",
    "        print(\"Ошибка при запуске catdoc:\", e)\n",
    "        return \"\"\n",
    "\n",
    "def ocr_pdf(pdf_path):\n",
    "    \"\"\"\n",
    "    Извлекает текст из PDF с помощью OCR.\n",
    "    \"\"\"\n",
    "    pages = convert_from_path(pdf_path, dpi=300)\n",
    "    extracted_text = ''\n",
    "    for i, page in enumerate(pages):\n",
    "        text = pytesseract.image_to_string(page, lang='rus+eng')\n",
    "        extracted_text += text\n",
    "    return extracted_text\n",
    "\n",
    "def get_text_from_file(file_path):\n",
    "    \"\"\"\n",
    "    Извлекает текст из файла с поддержкой форматов .txt, .docx и .pdf.\n",
    "    \"\"\"\n",
    "    _, ext = os.path.splitext(file_path)\n",
    "    ext = ext.lower()\n",
    "    \n",
    "    if ext == \".txt\":\n",
    "        with open(file_path, 'r', encoding='utf-8') as f:\n",
    "            return f.read()\n",
    "    elif ext == \".docx\":\n",
    "        return convert_docx_to_txt(file_path)\n",
    "    elif ext == \".doc\":\n",
    "        return convert_doc_to_txt(file_path)\n",
    "    elif ext == \".pdf\":\n",
    "        return ocr_pdf(file_path)\n",
    "    else:\n",
    "        print(f\"Неподдерживаемый формат файла: {file_path}\")\n",
    "        return \"\"\n",
    "\n",
    "# Создаём pipeline для суммаризации\n",
    "summ = pipeline(\n",
    "    \"summarization\",\n",
    "    device=0 if torch.cuda.is_available() else -1,\n",
    "    model=model,\n",
    "    tokenizer=tokenizer,\n",
    "    do_sample=False,\n",
    "    max_length=120,   # максимальная длина генерируемой сводки\n",
    "    min_length=60\n",
    ")\n",
    "\n",
    "def summarize_long_text(text, summ, tokenizer, max_input_length=1024):\n",
    "    \"\"\"\n",
    "    Суммаризует длинный текст, разбивая его на чанки, если он превышает max_input_length токенов.\n",
    "    1. Текст токенизируется.\n",
    "    2. Если длина входа <= max_input_length, используется стандартная суммаризация.\n",
    "    3. Если длина больше — текст делится на чанки, для каждого из которых генерируется сводка.\n",
    "    4. Итоговые сводки объединяются, и при необходимости проводится финальная суммаризация.\n",
    "    \"\"\"\n",
    "    # Токенизируем текст для определения длины в токенах\n",
    "    input_ids = tokenizer.encode(text, add_special_tokens=True)\n",
    "    \n",
    "    if len(input_ids) <= max_input_length:\n",
    "        # Если текст не превышает лимит, суммируем напрямую\n",
    "        return summ(text)[0]['summary_text']\n",
    "    else:\n",
    "        # Разбиваем текст на чанки по max_input_length токенов\n",
    "        chunks = []\n",
    "        for i in range(0, len(input_ids), max_input_length):\n",
    "            chunk_ids = input_ids[i:i+max_input_length]\n",
    "            # Декодируем токены в текст, убирая специальные токены\n",
    "            chunk_text = tokenizer.decode(chunk_ids, skip_special_tokens=True)\n",
    "            chunks.append(chunk_text)\n",
    "        \n",
    "        # Генерируем сводку для каждого чанка\n",
    "        chunk_summaries = []\n",
    "        for chunk in chunks:\n",
    "            summary = summ(chunk)[0]['summary_text']\n",
    "            chunk_summaries.append(summary)\n",
    "        \n",
    "        # Объединяем сводки чанков\n",
    "        combined_summary = \" \".join(chunk_summaries)\n",
    "        \n",
    "        # Если итоговая сводка всё ещё слишком длинная, можно провести финальную суммаризацию\n",
    "        combined_input_ids = tokenizer.encode(combined_summary, add_special_tokens=True)\n",
    "        if len(combined_input_ids) > max_input_length:\n",
    "            final_summary = summ(combined_summary)[0]['summary_text']\n",
    "        else:\n",
    "            final_summary = combined_summary\n",
    "        \n",
    "        return final_summary\n",
    "\n",
    "# Пример использования:\n",
    "file_path = \"proc_data/7.txt\"  # путь к вашему файлу (.txt, .docx или .pdf)\n",
    "text = get_text_from_file(file_path)\n",
    "res = summarize_long_text(text, summ, tokenizer)\n",
    "print(res)\n"
   ]
  },
  {
   "cell_type": "code",
   "execution_count": 14,
   "metadata": {},
   "outputs": [
    {
     "data": {
      "text/plain": [
       "[{'summary_text': 'Эксперты «МК» узнали, как будет развиваться отечественный интеллектуальный интеллект'}]"
      ]
     },
     "execution_count": 14,
     "metadata": {},
     "output_type": "execute_result"
    }
   ],
   "source": [
    "tokenizer_kwargs = {'truncation':True,'max_length':1024}\n",
    "summ(extracted_text, **tokenizer_kwargs)"
   ]
  }
 ],
 "metadata": {
  "kernelspec": {
   "display_name": "Python 3",
   "language": "python",
   "name": "python3"
  },
  "language_info": {
   "codemirror_mode": {
    "name": "ipython",
    "version": 3
   },
   "file_extension": ".py",
   "mimetype": "text/x-python",
   "name": "python",
   "nbconvert_exporter": "python",
   "pygments_lexer": "ipython3",
   "version": "3.12.6"
  }
 },
 "nbformat": 4,
 "nbformat_minor": 2
}
