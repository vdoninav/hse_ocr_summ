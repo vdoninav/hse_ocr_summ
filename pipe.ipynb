{
 "cells": [
  {
   "cell_type": "code",
   "execution_count": 20,
   "metadata": {},
   "outputs": [
    {
     "name": "stderr",
     "output_type": "stream",
     "text": [
      "huggingface/tokenizers: The current process just got forked, after parallelism has already been used. Disabling parallelism to avoid deadlocks...\n",
      "To disable this warning, you can either:\n",
      "\t- Avoid using `tokenizers` before the fork if possible\n",
      "\t- Explicitly set the environment variable TOKENIZERS_PARALLELISM=(true | false)\n",
      "huggingface/tokenizers: The current process just got forked, after parallelism has already been used. Disabling parallelism to avoid deadlocks...\n",
      "To disable this warning, you can either:\n",
      "\t- Avoid using `tokenizers` before the fork if possible\n",
      "\t- Explicitly set the environment variable TOKENIZERS_PARALLELISM=(true | false)\n",
      "huggingface/tokenizers: The current process just got forked, after parallelism has already been used. Disabling parallelism to avoid deadlocks...\n",
      "To disable this warning, you can either:\n",
      "\t- Avoid using `tokenizers` before the fork if possible\n",
      "\t- Explicitly set the environment variable TOKENIZERS_PARALLELISM=(true | false)\n",
      "huggingface/tokenizers: The current process just got forked, after parallelism has already been used. Disabling parallelism to avoid deadlocks...\n",
      "To disable this warning, you can either:\n",
      "\t- Avoid using `tokenizers` before the fork if possible\n",
      "\t- Explicitly set the environment variable TOKENIZERS_PARALLELISM=(true | false)\n",
      "huggingface/tokenizers: The current process just got forked, after parallelism has already been used. Disabling parallelism to avoid deadlocks...\n",
      "To disable this warning, you can either:\n",
      "\t- Avoid using `tokenizers` before the fork if possible\n",
      "\t- Explicitly set the environment variable TOKENIZERS_PARALLELISM=(true | false)\n",
      "Hardware accelerator e.g. GPU is available in the environment, but no `device` argument is passed to the `Pipeline` object. Model will be on CPU.\n"
     ]
    },
    {
     "data": {
      "text/plain": [
       "'Министр образования и науки РФ Владимир ПРЕОБРАЖЕНСКИЙ: «Высшее профессиональное образование Москвы — это школа дополнительного образования»'"
      ]
     },
     "execution_count": 20,
     "metadata": {},
     "output_type": "execute_result"
    }
   ],
   "source": [
    "import pytesseract\n",
    "from pdf2image import convert_from_path\n",
    "from transformers import AutoTokenizer, MBartForConditionalGeneration, pipeline\n",
    "import os\n",
    "\n",
    "\n",
    "tokenizer = AutoTokenizer.from_pretrained('./ru-mbart-large-summ')\n",
    "model = MBartForConditionalGeneration.from_pretrained('./ru-mbart-large-summ')\n",
    "\n",
    "os.environ['TESSDATA_PREFIX'] = '/opt/homebrew/share/tessdata'\n",
    "\n",
    "pages = convert_from_path('test3.pdf', dpi=300)\n",
    "\n",
    "extracted_text = ''\n",
    "\n",
    "for i, page in enumerate(pages):\n",
    "    text = pytesseract.image_to_string(page, lang='rus+eng')\n",
    "    extracted_text += f'--- Страница {i+1} ---\\n' + text + '\\n'\n",
    "\n",
    "summ = pipeline(\"summarization\", model=model, tokenizer=tokenizer)\n",
    "\n",
    "res = summ(extracted_text)[0]['summary_text']\n",
    "res"
   ]
  },
  {
   "cell_type": "code",
   "execution_count": 29,
   "metadata": {},
   "outputs": [
    {
     "data": {
      "text/plain": [
       "'Настоящее положение дел в Российском государственном научно-техническом университете создано в соответствии с законом «О государственной политике Российской Федерации» и уставом Национального исследовательского университета «Высшая школа экономики» (НОУ) «Управление правовой политики НИУ ВШЭ».'"
      ]
     },
     "execution_count": 29,
     "metadata": {},
     "output_type": "execute_result"
    }
   ],
   "source": [
    "import pytesseract\n",
    "from pdf2image import convert_from_path\n",
    "from transformers import AutoTokenizer, MBartForConditionalGeneration, pipeline\n",
    "import os\n",
    "import torch\n",
    "\n",
    "os.environ['TESSDATA_PREFIX'] = '/opt/homebrew/share/tessdata'\n",
    "\n",
    "device = torch.device(\"cuda\" if torch.cuda.is_available() else 'cpu')\n",
    "tokenizer = AutoTokenizer.from_pretrained('tuned/final_model')\n",
    "model = MBartForConditionalGeneration.from_pretrained('tuned/final_model').to(device)\n",
    "\n",
    "\n",
    "def convert_docx_to_txt(docx_path):\n",
    "    \"\"\"\n",
    "    Читает документ .docx и возвращает его содержимое в виде строки.\n",
    "    \"\"\"\n",
    "    doc = Document(docx_path)\n",
    "    full_text = [para.text for para in doc.paragraphs]\n",
    "    text = \"\\n\".join(full_text)\n",
    "    return text\n",
    "\n",
    "def ocr_pdf(pdf_path):\n",
    "    \"\"\"\n",
    "    Takes a .pdf document and returns extracted text\n",
    "    \"\"\"\n",
    "    os.environ['TESSDATA_PREFIX'] = '/opt/homebrew/share/tessdata'\n",
    "    pages = convert_from_path(pdf_path, dpi=300)\n",
    "    extracted_text = ''\n",
    "    for i, page in enumerate(pages):\n",
    "        text = pytesseract.image_to_string(page, lang='rus+eng')\n",
    "        extracted_text += text\n",
    "    return extracted_text\n",
    "\n",
    "def get_text_from_file(file_path):\n",
    "    \"\"\"\n",
    "    Извлекает текст из файла с поддержкой форматов .txt, .docx и .pdf.\n",
    "    \"\"\"\n",
    "    _, ext = os.path.splitext(file_path)\n",
    "    ext = ext.lower()\n",
    "    \n",
    "    if ext == \".txt\":\n",
    "        with open(file_path, 'r', encoding='utf-8') as f:\n",
    "            return f.read()\n",
    "    elif ext == \".docx\":\n",
    "        return convert_docx_to_txt(file_path)\n",
    "    elif ext == \".pdf\":\n",
    "        return ocr_pdf(file_path)\n",
    "    else:\n",
    "        print(f\"Неподдерживаемый формат файла: {file_path}\")\n",
    "        return \"\"\n",
    "    \n",
    "\n",
    "summ = pipeline(\"summarization\", device=device, model=model, tokenizer=tokenizer, do_sample=False, max_length=120, min_length=60)\n",
    "\n",
    "text = get_text_from_file(\"proc_data/7.txt\")\n",
    "tokenizer_kwargs = {'truncation':True,'max_length':1024}\n",
    "res = summ(text, **tokenizer_kwargs)[0]['summary_text']\n",
    "res"
   ]
  },
  {
   "cell_type": "code",
   "execution_count": 14,
   "metadata": {},
   "outputs": [
    {
     "data": {
      "text/plain": [
       "[{'summary_text': 'Эксперты «МК» узнали, как будет развиваться отечественный интеллектуальный интеллект'}]"
      ]
     },
     "execution_count": 14,
     "metadata": {},
     "output_type": "execute_result"
    }
   ],
   "source": [
    "tokenizer_kwargs = {'truncation':True,'max_length':1024}\n",
    "summ(extracted_text, **tokenizer_kwargs)"
   ]
  }
 ],
 "metadata": {
  "kernelspec": {
   "display_name": "Python 3",
   "language": "python",
   "name": "python3"
  },
  "language_info": {
   "codemirror_mode": {
    "name": "ipython",
    "version": 3
   },
   "file_extension": ".py",
   "mimetype": "text/x-python",
   "name": "python",
   "nbconvert_exporter": "python",
   "pygments_lexer": "ipython3",
   "version": "3.12.6"
  }
 },
 "nbformat": 4,
 "nbformat_minor": 2
}
